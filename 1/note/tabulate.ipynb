{
 "cells": [
  {
   "cell_type": "code",
   "execution_count": null,
   "metadata": {
    "collapsed": true
   },
   "outputs": [],
   "source": [
    "from tabulate import tabulate"
   ]
  },
  {
   "cell_type": "code",
   "execution_count": null,
   "outputs": [],
   "source": [
    "data = [\n",
    "    ['Python', 'inter', '1991'],\n",
    "    ['Java', 'comp', '1995'],\n",
    "    ['C', 'comp', '1972'],\n",
    "]\n",
    "\n",
    "dict_data = [\n",
    "    {'name': 'Python', 'type': 'inter', 'year': 1991},\n",
    "    {'name': 'Java', 'type': 'comp', 'year': 1995},\n",
    "    {'name': 'C', 'type': 'comp', 'year': 1972},\n",
    "]\n",
    "\n",
    "columns = ['name', 'type', 'year']"
   ],
   "metadata": {
    "collapsed": false,
    "pycharm": {
     "name": "#%%\n"
    }
   }
  },
  {
   "cell_type": "code",
   "execution_count": null,
   "outputs": [],
   "source": [
    "# print(tabulate(data, headers=columns))\n",
    "# print(tabulate(dict_data))\n",
    "print(tabulate(dict_data, headers='keys', tablefmt=\"grid\"))\n"
   ],
   "metadata": {
    "collapsed": false,
    "pycharm": {
     "name": "#%%\n"
    }
   }
  }
 ],
 "metadata": {
  "language_info": {
   "codemirror_mode": {
    "name": "ipython",
    "version": 2
   },
   "file_extension": ".py",
   "mimetype": "text/x-python",
   "name": "python",
   "nbconvert_exporter": "python",
   "pygments_lexer": "ipython2",
   "version": "2.7.6"
  },
  "kernelspec": {
   "name": "python3",
   "language": "python",
   "display_name": "Python 3"
  },
  "pycharm": {
   "stem_cell": {
    "cell_type": "raw",
    "source": [],
    "metadata": {
     "collapsed": false
    }
   }
  }
 },
 "nbformat": 4,
 "nbformat_minor": 0
}